{
 "cells": [
  {
   "cell_type": "code",
   "execution_count": 1,
   "metadata": {},
   "outputs": [],
   "source": [
    "# import related libraries\n",
    "import csv\n",
    "import json\n",
    "import numpy as np\n",
    "import os\n",
    "import pandas as pd\n",
    "from joblib import dump, load\n",
    "from sklearn import model_selection\n",
    "import matplotlib.pyplot as plt\n",
    "\n",
    "# set random seeds to ensure reproducibility\n",
    "import random\n",
    "random.seed(5500)\n",
    "np.random.seed(5500)"
   ]
  },
  {
   "cell_type": "code",
   "execution_count": 4,
   "metadata": {},
   "outputs": [],
   "source": [
    "# read the labeled dataset\n",
    "data = pd.read_csv(\"data/Train_rev1.csv\")"
   ]
  },
  {
   "cell_type": "code",
   "execution_count": 5,
   "metadata": {},
   "outputs": [
    {
     "name": "stdout",
     "output_type": "stream",
     "text": [
      "False\n",
      "1\n",
      "0\n",
      "0\n",
      "0\n",
      "179326\n",
      "63905\n",
      "32430\n",
      "0\n",
      "0\n",
      "0\n",
      "1\n"
     ]
    }
   ],
   "source": [
    "# process missing values\n",
    "def anyMissingValues(X):\n",
    "    return any(pd.isna(X))\n",
    "\n",
    "def numOfMissingValues(X):\n",
    "    return sum(pd.isna(X))\n",
    "    \n",
    "print(anyMissingValues(data.Category))\n",
    "print(numOfMissingValues(data.Title))\n",
    "print(numOfMissingValues(data.FullDescription))\n",
    "print(numOfMissingValues(data.LocationRaw))\n",
    "print(numOfMissingValues(data.LocationNormalized))\n",
    "print(numOfMissingValues(data.ContractType))\n",
    "print(numOfMissingValues(data.ContractTime))\n",
    "print(numOfMissingValues(data.Company))\n",
    "print(numOfMissingValues(data.Category))\n",
    "print(numOfMissingValues(data.SalaryRaw))\n",
    "print(numOfMissingValues(data.SalaryNormalized))\n",
    "print(numOfMissingValues(data.SourceName))"
   ]
  },
  {
   "cell_type": "code",
   "execution_count": 91,
   "metadata": {},
   "outputs": [
    {
     "name": "stdout",
     "output_type": "stream",
     "text": [
      "Senior C++ Engineer / C++ Performance Optimisation Coder / C F Framework Developer, Front Office  Elite Team \"\n",
      " Tier One Investment Bank\"\n",
      "Senior C++ Engineer / C++ Performance Optimisation Coder / C Elite Team , Tier One Investment Bank Introduction: This is by far one of the most exciting mandates that we have been engaged on this year. Our clients are seeking a bestinclass , industry leading Senior VP level hands on C++ Engineer with skills in C and F to join an elite Quant Strategies Technology team to work with the business on trading tech solutions. The Organisation: A top Investment Bank, regarded by many as the best to work for. The Team: The Quant Strategies Team working within Fixed Income. The Project: An interesting semiindividual project to start with; there is a large amount of C++ code in the form of libraries used for quant models. Following the build of a new strategic risk platform, these are no longer scalable, and must be optimised to improve performance, all within a multicomponent COM setting. Once this has been completed, this individual will then move to work on framework build projects using mainly C and F with some C++. This role essentially suits a languageagnostic computer scientist, with a passion for optimising code. The Package: This bank is looking for the best; a base of up to **** plus a discretionary bonus (this group always do very well) equal a great total package. Contact: If this exceptional opportunity is of interest, please call Paul Kirtley on **** **** **** or email paulkmontash.com Keywords: C++, C++ Developer, C++ Technologist, C++ Engineer, C++ Quant Developer, C++ Expert, C++ Performance Optimisation, C Developer, C Engineer, F Developer, F Functional Developer, COM, MultiComponent COM, Computer Scientist, Quant Trading, Investment Bank, London\n",
      "Id                                                             72418656\n",
      "Title                 Senior C++ Engineer / C++ Performance Optimisa...\n",
      "FullDescription                               Tier One Investment Bank\"\n",
      "LocationRaw           Senior C++ Engineer / C++ Performance Optimisa...\n",
      "LocationNormalized                                               London\n",
      "ContractType                                                        NaN\n",
      "ContractTime                                                        NaN\n",
      "Company                                                 Montash Limited\n",
      "Category                                      Accounting & Finance Jobs\n",
      "SalaryRaw                             Up To 120,000 Plus Uncapped Bonus\n",
      "SalaryNormalized                                                 120000\n",
      "SourceName                                                          NaN\n",
      "Name: 224434, dtype: object\n"
     ]
    }
   ],
   "source": [
    "# look at the 224434th line of the data\n",
    "print(data.iloc[224434, 1])\n",
    "print(data.iloc[224434, 2])\n",
    "print(data.iloc[224434, 3])\n",
    "print(data.iloc[224434, ])"
   ]
  },
  {
   "cell_type": "code",
   "execution_count": null,
   "metadata": {},
   "outputs": [],
   "source": [
    "# data cleaning, remove anomalies in the dataset \n",
    "print([i for i,x in enumerate(data.SourceName.isna()) if x == True]) # number of missing value is 1\n",
    "print(data.iloc[224434, :])\n",
    "print(data[data.Company==\"Montash Limited\"].SourceName)\n",
    "data.iloc[224434, 11] = \"eFinancialCareers\"\n",
    "# According to the missing values in SourceName, we found that the corresponding company publishes its ads in only one Source.\n",
    "\n",
    "# Title_lengths = [len(x) for x in data.Title], error: type \"float\" has no len().\n",
    "FullDescription_lengths = [len(x) for x in data.FullDescription] \n",
    "LocationRaw_lengths = [len(x) for x in data.LocationRaw]\n",
    "LocationNormalized_lengths = [len(x) for x in data.LocationNormalized]\n",
    "\n",
    "plt.boxplot(FullDescription_lengths)\n",
    "print(min(FullDescription_lengths)) # 26, anomaly?\n",
    "\n",
    "plt.boxplot(LocationRaw_lengths)\n",
    "print(max(LocationRaw_lengths)) # 1682, anomaly\n",
    "\n",
    "print([i for i,x in enumerate(LocationRaw_lengths) if x == 1682]) # 224434\n",
    "print(data.iloc[224434, ])\n",
    "data.iloc[224434, 2] = data.iloc[224434, 3]\n",
    "data.iloc[224434, 3] = data.iloc[224434, 4] # typo error"
   ]
  },
  {
   "cell_type": "code",
   "execution_count": 20,
   "metadata": {},
   "outputs": [
    {
     "data": {
      "text/plain": [
       "{'whiskers': [<matplotlib.lines.Line2D at 0x2103e98a4a8>,\n",
       "  <matplotlib.lines.Line2D at 0x2103e98aa20>],\n",
       " 'caps': [<matplotlib.lines.Line2D at 0x2103e98af60>,\n",
       "  <matplotlib.lines.Line2D at 0x2103e1884e0>],\n",
       " 'boxes': [<matplotlib.lines.Line2D at 0x2103e98a048>],\n",
       " 'medians': [<matplotlib.lines.Line2D at 0x2103e188a20>],\n",
       " 'fliers': [<matplotlib.lines.Line2D at 0x2103e188f60>],\n",
       " 'means': []}"
      ]
     },
     "execution_count": 20,
     "metadata": {},
     "output_type": "execute_result"
    },
    {
     "data": {
      "image/png": "[encoded data removed]",
      "text/plain": [
       "<Figure size 432x288 with 1 Axes>"
      ]
     },
     "metadata": {
      "needs_background": "light"
     },
     "output_type": "display_data"
    }
   ],
   "source": [
    "plt.boxplot(LocationRaw_lengths)"
   ]
  },
  {
   "cell_type": "code",
   "execution_count": 71,
   "metadata": {},
   "outputs": [
    {
     "name": "stdout",
     "output_type": "stream",
     "text": [
      "20986\n",
      "2732\n",
      "3\n",
      "3\n",
      "20813\n",
      "29\n",
      "167\n"
     ]
    }
   ],
   "source": [
    "# number of unique values\n",
    "def numOfUniqueValues(X):\n",
    "    return len(set(X))\n",
    "\n",
    "print(numOfUniqueValues(data.LocationRaw))\n",
    "print(numOfUniqueValues(data.LocationNormalized))\n",
    "print(numOfUniqueValues(data.ContractType))\n",
    "print(numOfUniqueValues(data.ContractTime))\n",
    "print(numOfUniqueValues(data.Company))\n",
    "print(numOfUniqueValues(data.Category))\n",
    "print(numOfUniqueValues(data.SourceName))"
   ]
  },
  {
   "cell_type": "code",
   "execution_count": 42,
   "metadata": {},
   "outputs": [
    {
     "data": {
      "text/plain": [
       "0         other\n",
       "1         other\n",
       "2         other\n",
       "3         other\n",
       "4         other\n",
       "          ...  \n",
       "244763    other\n",
       "244764    other\n",
       "244765    other\n",
       "244766    other\n",
       "244767    other\n",
       "Name: ContractType, Length: 244768, dtype: object"
      ]
     },
     "execution_count": 42,
     "metadata": {},
     "output_type": "execute_result"
    }
   ],
   "source": [
    "# data imputation for ContractType\n",
    "data.ContractType.fillna(\"other\", inplace=True)\n",
    "\n",
    "# data imputation for ContractTime\n",
    "data.ContractTime.fillna(\"other\", inplace=True)"
   ]
  },
  {
   "cell_type": "code",
   "execution_count": null,
   "metadata": {},
   "outputs": [],
   "source": [
    "# split dataset into train set and test set\n",
    "train, test = model_selection.train_test_split(data, test_size=0.3, stratify=data[\"Category\"]) # stratify according to category\n",
    "print(data.shape)\n",
    "print(train.shape)\n",
    "print(test.shape)"
   ]
  },
  {
   "cell_type": "code",
   "execution_count": 9,
   "metadata": {},
   "outputs": [
    {
     "data": {
      "text/plain": [
       "0         Engineering Jobs\n",
       "1         Engineering Jobs\n",
       "2         Engineering Jobs\n",
       "3         Engineering Jobs\n",
       "4         Engineering Jobs\n",
       "                ...       \n",
       "244763       Teaching Jobs\n",
       "244764       Teaching Jobs\n",
       "244765       Teaching Jobs\n",
       "244766       Teaching Jobs\n",
       "244767       Teaching Jobs\n",
       "Name: Category, Length: 244768, dtype: object"
      ]
     },
     "execution_count": 9,
     "metadata": {},
     "output_type": "execute_result"
    }
   ],
   "source": [
    "# code to extract a column of pandas dataframe\n",
    "data[\"Category\"]\n",
    "data.Category"
   ]
  },
  {
   "cell_type": "code",
   "execution_count": 11,
   "metadata": {},
   "outputs": [
    {
     "data": {
      "text/html": [
       "<div>\n",
       "<style scoped>\n",
       "    .dataframe tbody tr th:only-of-type {\n",
       "        vertical-align: middle;\n",
       "    }\n",
       "\n",
       "    .dataframe tbody tr th {\n",
       "        vertical-align: top;\n",
       "    }\n",
       "\n",
       "    .dataframe thead th {\n",
       "        text-align: right;\n",
       "    }\n",
       "</style>\n",
       "<table border=\"1\" class=\"dataframe\">\n",
       "  <thead>\n",
       "    <tr style=\"text-align: right;\">\n",
       "      <th></th>\n",
       "      <th>Id</th>\n",
       "      <th>Title</th>\n",
       "      <th>FullDescription</th>\n",
       "      <th>LocationRaw</th>\n",
       "      <th>LocationNormalized</th>\n",
       "      <th>ContractType</th>\n",
       "      <th>ContractTime</th>\n",
       "      <th>Company</th>\n",
       "      <th>Category</th>\n",
       "      <th>SalaryRaw</th>\n",
       "      <th>SalaryNormalized</th>\n",
       "      <th>SourceName</th>\n",
       "    </tr>\n",
       "  </thead>\n",
       "  <tbody>\n",
       "    <tr>\n",
       "      <th>28243</th>\n",
       "      <td>67947854</td>\n",
       "      <td>Quality Manager</td>\n",
       "      <td>An opportunity has arisen for a Quality Manage...</td>\n",
       "      <td>Midlands</td>\n",
       "      <td>East Midlands</td>\n",
       "      <td>NaN</td>\n",
       "      <td>permanent</td>\n",
       "      <td>Michael Page   Engineering Manufacture</td>\n",
       "      <td>Other/General Jobs</td>\n",
       "      <td>40,000-45,000 + Car/al</td>\n",
       "      <td>42500</td>\n",
       "      <td>jobsite.co.uk</td>\n",
       "    </tr>\n",
       "    <tr>\n",
       "      <th>65564</th>\n",
       "      <td>68710869</td>\n",
       "      <td>Contract Hire Coordinator</td>\n",
       "      <td>Due to the succesfull capture of a new contrac...</td>\n",
       "      <td>Coventry West Midlands (County) West Midlands</td>\n",
       "      <td>UK</td>\n",
       "      <td>NaN</td>\n",
       "      <td>permanent</td>\n",
       "      <td>Flex Recruitment</td>\n",
       "      <td>Other/General Jobs</td>\n",
       "      <td>Negotiable c.16k</td>\n",
       "      <td>16000</td>\n",
       "      <td>totaljobs.com</td>\n",
       "    </tr>\n",
       "    <tr>\n",
       "      <th>197901</th>\n",
       "      <td>71845714</td>\n",
       "      <td>Food and Beverage Service Assistant  De Vere V...</td>\n",
       "      <td>Food and Beverage Service Assistant  De Vere V...</td>\n",
       "      <td>Leatherhead, Surrey, UK, Surrey</td>\n",
       "      <td>Leatherhead</td>\n",
       "      <td>NaN</td>\n",
       "      <td>NaN</td>\n",
       "      <td>i resourcer</td>\n",
       "      <td>Hospitality &amp; Catering Jobs</td>\n",
       "      <td>From 6.19 to 6.19 per hour</td>\n",
       "      <td>11884</td>\n",
       "      <td>jobs.catererandhotelkeeper.com</td>\n",
       "    </tr>\n",
       "    <tr>\n",
       "      <th>74446</th>\n",
       "      <td>68999742</td>\n",
       "      <td>Supply Chain Analyst  Automotive  ****K  Shrew...</td>\n",
       "      <td>This organisation is a business which has seen...</td>\n",
       "      <td>Shrewsbury, Shropshire, England, Shropshire</td>\n",
       "      <td>Shrewsbury</td>\n",
       "      <td>NaN</td>\n",
       "      <td>contract</td>\n",
       "      <td>Jonathan Lee Recruitment Ltd</td>\n",
       "      <td>Other/General Jobs</td>\n",
       "      <td>28000 - 30000/annum</td>\n",
       "      <td>29000</td>\n",
       "      <td>cv-library.co.uk</td>\n",
       "    </tr>\n",
       "    <tr>\n",
       "      <th>22017</th>\n",
       "      <td>67378832</td>\n",
       "      <td>General Manager Gatwick</td>\n",
       "      <td>GENERAL MANAGER We are currently recruiting fo...</td>\n",
       "      <td>Gatwick, West Sussex West Sussex South East</td>\n",
       "      <td>UK</td>\n",
       "      <td>NaN</td>\n",
       "      <td>NaN</td>\n",
       "      <td>Cherryred Recruitment</td>\n",
       "      <td>Hospitality &amp; Catering Jobs</td>\n",
       "      <td>From 30,000 to 35,000 per annum</td>\n",
       "      <td>32500</td>\n",
       "      <td>caterer.com</td>\n",
       "    </tr>\n",
       "  </tbody>\n",
       "</table>\n",
       "</div>"
      ],
      "text/plain": [
       "              Id                                              Title  \\\n",
       "28243   67947854                                    Quality Manager   \n",
       "65564   68710869                          Contract Hire Coordinator   \n",
       "197901  71845714  Food and Beverage Service Assistant  De Vere V...   \n",
       "74446   68999742  Supply Chain Analyst  Automotive  ****K  Shrew...   \n",
       "22017   67378832                            General Manager Gatwick   \n",
       "\n",
       "                                          FullDescription  \\\n",
       "28243   An opportunity has arisen for a Quality Manage...   \n",
       "65564   Due to the succesfull capture of a new contrac...   \n",
       "197901  Food and Beverage Service Assistant  De Vere V...   \n",
       "74446   This organisation is a business which has seen...   \n",
       "22017   GENERAL MANAGER We are currently recruiting fo...   \n",
       "\n",
       "                                          LocationRaw LocationNormalized  \\\n",
       "28243                                        Midlands      East Midlands   \n",
       "65564   Coventry West Midlands (County) West Midlands                 UK   \n",
       "197901                Leatherhead, Surrey, UK, Surrey        Leatherhead   \n",
       "74446     Shrewsbury, Shropshire, England, Shropshire         Shrewsbury   \n",
       "22017     Gatwick, West Sussex West Sussex South East                 UK   \n",
       "\n",
       "       ContractType ContractTime                                 Company  \\\n",
       "28243           NaN    permanent  Michael Page   Engineering Manufacture   \n",
       "65564           NaN    permanent                        Flex Recruitment   \n",
       "197901          NaN          NaN                             i resourcer   \n",
       "74446           NaN     contract            Jonathan Lee Recruitment Ltd   \n",
       "22017           NaN          NaN                   Cherryred Recruitment   \n",
       "\n",
       "                           Category                        SalaryRaw  \\\n",
       "28243            Other/General Jobs           40,000-45,000 + Car/al   \n",
       "65564            Other/General Jobs                 Negotiable c.16k   \n",
       "197901  Hospitality & Catering Jobs       From 6.19 to 6.19 per hour   \n",
       "74446            Other/General Jobs              28000 - 30000/annum   \n",
       "22017   Hospitality & Catering Jobs  From 30,000 to 35,000 per annum   \n",
       "\n",
       "        SalaryNormalized                      SourceName  \n",
       "28243              42500                   jobsite.co.uk  \n",
       "65564              16000                   totaljobs.com  \n",
       "197901             11884  jobs.catererandhotelkeeper.com  \n",
       "74446              29000                cv-library.co.uk  \n",
       "22017              32500                     caterer.com  "
      ]
     },
     "execution_count": 11,
     "metadata": {},
     "output_type": "execute_result"
    }
   ],
   "source": [
    "train.head()"
   ]
  },
  {
   "cell_type": "code",
   "execution_count": 12,
   "metadata": {},
   "outputs": [
    {
     "data": {
      "text/html": [
       "<div>\n",
       "<style scoped>\n",
       "    .dataframe tbody tr th:only-of-type {\n",
       "        vertical-align: middle;\n",
       "    }\n",
       "\n",
       "    .dataframe tbody tr th {\n",
       "        vertical-align: top;\n",
       "    }\n",
       "\n",
       "    .dataframe thead th {\n",
       "        text-align: right;\n",
       "    }\n",
       "</style>\n",
       "<table border=\"1\" class=\"dataframe\">\n",
       "  <thead>\n",
       "    <tr style=\"text-align: right;\">\n",
       "      <th></th>\n",
       "      <th>Id</th>\n",
       "      <th>Title</th>\n",
       "      <th>FullDescription</th>\n",
       "      <th>LocationRaw</th>\n",
       "      <th>LocationNormalized</th>\n",
       "      <th>ContractType</th>\n",
       "      <th>ContractTime</th>\n",
       "      <th>Company</th>\n",
       "      <th>Category</th>\n",
       "      <th>SalaryRaw</th>\n",
       "      <th>SalaryNormalized</th>\n",
       "      <th>SourceName</th>\n",
       "    </tr>\n",
       "  </thead>\n",
       "  <tbody>\n",
       "    <tr>\n",
       "      <th>199611</th>\n",
       "      <td>71851370</td>\n",
       "      <td>Teacher of English in A PRU</td>\n",
       "      <td>We are looking for a dynamic and positive teac...</td>\n",
       "      <td>Dartford Kent South East</td>\n",
       "      <td>Dartford</td>\n",
       "      <td>NaN</td>\n",
       "      <td>contract</td>\n",
       "      <td>Teaching Appointments</td>\n",
       "      <td>Teaching Jobs</td>\n",
       "      <td>Up to 35,000 per annum</td>\n",
       "      <td>35000</td>\n",
       "      <td>totaljobs.com</td>\n",
       "    </tr>\n",
       "    <tr>\n",
       "      <th>68342</th>\n",
       "      <td>68784262</td>\n",
       "      <td>DIRECT SALES EXECUTIVE, LEEDS  NO EXP NECESSARY</td>\n",
       "      <td>Direct Sales Executive, Leeds . Our client is ...</td>\n",
       "      <td>West Yorkshire Yorkshire</td>\n",
       "      <td>West Yorkshire</td>\n",
       "      <td>NaN</td>\n",
       "      <td>permanent</td>\n",
       "      <td>Hot Recruitment Consultants</td>\n",
       "      <td>Sales Jobs</td>\n",
       "      <td>25k - 50k per year</td>\n",
       "      <td>37500</td>\n",
       "      <td>salestarget.co.uk</td>\n",
       "    </tr>\n",
       "    <tr>\n",
       "      <th>124208</th>\n",
       "      <td>69967348</td>\n",
       "      <td>Assistant Quantity Surveyor  High Spec Housing</td>\n",
       "      <td>Assistant Quantity Surveyor  London City **** ...</td>\n",
       "      <td>City London South East</td>\n",
       "      <td>London</td>\n",
       "      <td>NaN</td>\n",
       "      <td>permanent</td>\n",
       "      <td>Project Resource</td>\n",
       "      <td>Trade &amp; Construction Jobs</td>\n",
       "      <td>23000 - 28000 per annum + private health</td>\n",
       "      <td>25500</td>\n",
       "      <td>careerstructure.com</td>\n",
       "    </tr>\n",
       "    <tr>\n",
       "      <th>125258</th>\n",
       "      <td>69989596</td>\n",
       "      <td>GENERAL MANAGER  HOSPITALITY AND ENTERTAINMENT...</td>\n",
       "      <td>Fantastic General Manager opportunity to work ...</td>\n",
       "      <td>Macclesfield Cheshire North West</td>\n",
       "      <td>Macclesfield</td>\n",
       "      <td>NaN</td>\n",
       "      <td>permanent</td>\n",
       "      <td>Detail2Leisure</td>\n",
       "      <td>Hospitality &amp; Catering Jobs</td>\n",
       "      <td>From 30,000 to 30,000 per annum + Bonus</td>\n",
       "      <td>30000</td>\n",
       "      <td>totaljobs.com</td>\n",
       "    </tr>\n",
       "    <tr>\n",
       "      <th>116213</th>\n",
       "      <td>69782688</td>\n",
       "      <td>Education Training and Employment Advisor</td>\n",
       "      <td>Swim are looking to appoint an Education Train...</td>\n",
       "      <td>Merton, Greater London, South London</td>\n",
       "      <td>London</td>\n",
       "      <td>NaN</td>\n",
       "      <td>NaN</td>\n",
       "      <td>Swim Recruitment</td>\n",
       "      <td>Social work Jobs</td>\n",
       "      <td>20.70 per hour</td>\n",
       "      <td>39744</td>\n",
       "      <td>jobs.communitycare.co.uk</td>\n",
       "    </tr>\n",
       "  </tbody>\n",
       "</table>\n",
       "</div>"
      ],
      "text/plain": [
       "              Id                                              Title  \\\n",
       "199611  71851370                        Teacher of English in A PRU   \n",
       "68342   68784262    DIRECT SALES EXECUTIVE, LEEDS  NO EXP NECESSARY   \n",
       "124208  69967348     Assistant Quantity Surveyor  High Spec Housing   \n",
       "125258  69989596  GENERAL MANAGER  HOSPITALITY AND ENTERTAINMENT...   \n",
       "116213  69782688          Education Training and Employment Advisor   \n",
       "\n",
       "                                          FullDescription  \\\n",
       "199611  We are looking for a dynamic and positive teac...   \n",
       "68342   Direct Sales Executive, Leeds . Our client is ...   \n",
       "124208  Assistant Quantity Surveyor  London City **** ...   \n",
       "125258  Fantastic General Manager opportunity to work ...   \n",
       "116213  Swim are looking to appoint an Education Train...   \n",
       "\n",
       "                                 LocationRaw LocationNormalized ContractType  \\\n",
       "199611              Dartford Kent South East           Dartford          NaN   \n",
       "68342               West Yorkshire Yorkshire     West Yorkshire          NaN   \n",
       "124208                City London South East             London          NaN   \n",
       "125258      Macclesfield Cheshire North West       Macclesfield          NaN   \n",
       "116213  Merton, Greater London, South London             London          NaN   \n",
       "\n",
       "       ContractTime                      Company                     Category  \\\n",
       "199611     contract        Teaching Appointments                Teaching Jobs   \n",
       "68342     permanent  Hot Recruitment Consultants                   Sales Jobs   \n",
       "124208    permanent             Project Resource    Trade & Construction Jobs   \n",
       "125258    permanent               Detail2Leisure  Hospitality & Catering Jobs   \n",
       "116213          NaN             Swim Recruitment             Social work Jobs   \n",
       "\n",
       "                                       SalaryRaw  SalaryNormalized  \\\n",
       "199611                    Up to 35,000 per annum             35000   \n",
       "68342                         25k - 50k per year             37500   \n",
       "124208  23000 - 28000 per annum + private health             25500   \n",
       "125258   From 30,000 to 30,000 per annum + Bonus             30000   \n",
       "116213                            20.70 per hour             39744   \n",
       "\n",
       "                      SourceName  \n",
       "199611             totaljobs.com  \n",
       "68342          salestarget.co.uk  \n",
       "124208       careerstructure.com  \n",
       "125258             totaljobs.com  \n",
       "116213  jobs.communitycare.co.uk  "
      ]
     },
     "execution_count": 12,
     "metadata": {},
     "output_type": "execute_result"
    }
   ],
   "source": [
    "test.head()"
   ]
  },
  {
   "cell_type": "code",
   "execution_count": 11,
   "metadata": {},
   "outputs": [
    {
     "name": "stdout",
     "output_type": "stream",
     "text": [
      "(73431, 12)\n",
      "(36715, 12)\n",
      "(36716, 12)\n"
     ]
    }
   ],
   "source": [
    "# split dataset into validation set and test set\n",
    "test_data = test\n",
    "valid, test = model_selection.train_test_split(test_data, test_size=0.5, stratify=test_data[\"Category\"]) # stratify according to category\n",
    "print(test_data.shape)\n",
    "print(valid.shape)\n",
    "print(test.shape)"
   ]
  },
  {
   "cell_type": "code",
   "execution_count": 12,
   "metadata": {},
   "outputs": [],
   "source": [
    "# save the subsets into local csv files\n",
    "train.to_csv(\"data/train.csv\", index=False)\n",
    "valid.to_csv(\"data/valid.csv\", index=False)\n",
    "test.to_csv(\"data/test.csv\", index=False)"
   ]
  },
  {
   "cell_type": "code",
   "execution_count": 6,
   "metadata": {},
   "outputs": [],
   "source": []
  }
 ],
 "metadata": {
  "kernelspec": {
   "display_name": "Python 3",
   "language": "python",
   "name": "python3"
  },
  "language_info": {
   "codemirror_mode": {
    "name": "ipython",
    "version": 3
   },
   "file_extension": ".py",
   "mimetype": "text/x-python",
   "name": "python",
   "nbconvert_exporter": "python",
   "pygments_lexer": "ipython3",
   "version": "3.6.10"
  }
 },
 "nbformat": 4,
 "nbformat_minor": 4
}
